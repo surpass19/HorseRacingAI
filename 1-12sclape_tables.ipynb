{
 "cells": [
  {
   "cell_type": "code",
   "execution_count": 22,
   "metadata": {},
   "outputs": [],
   "source": [
    "#血統のデータをスクレイプする 特徴量を作成する 当日も取れる情報がよい\n",
    "from sklearn.model_selection import GridSearchCV\n",
    "from sklearn.metrics import accuracy_score\n",
    "from sklearn.model_selection import KFold\n",
    "from bs4 import BeautifulSoup\n",
    "import requests\n",
    "import pandas as pd\n",
    "import re\n",
    "import time\n",
    "from tqdm import tqdm as tqdm\n",
    "import numpy as np\n",
    "from sklearn.metrics import roc_curve, roc_auc_score\n",
    "import lightgbm as lgb\n",
    "import matplotlib.pyplot as plt\n",
    "from sklearn.model_selection import train_test_split\n",
    "from urllib.request import urlopen\n",
    "pd.set_option('display.max_columns', 100)"
   ]
  },
  {
   "cell_type": "code",
   "execution_count": 23,
   "metadata": {},
   "outputs": [],
   "source": [
    "#払戻金をスクレイプ(testデータに対して, するのが望ましい)\n",
    "def sclape_return_tables(race_id_list, pre_return_tables={}):\n",
    "    return_tables = pre_return_tables\n",
    "    for race_id in tqdm(race_id_list):\n",
    "        if race_id in return_tables.keys():\n",
    "            continue\n",
    "        try:\n",
    "            url = 'https://db.netkeiba.com/race/' + race_id\n",
    "            f = urlopen(url)\n",
    "            html = f.read()\n",
    "            html = html.replace(b'<br />', b'br')\n",
    "            dfs = pd.read_html(html)\n",
    "            return_tables[race_id] = pd.concat([dfs[1], dfs[2]])\n",
    "            time.sleep(0.1)\n",
    "        except IndexError:\n",
    "            continue\n",
    "        except Exception as e:\n",
    "            # for文から抜け出す\n",
    "            print('Error',e)\n",
    "            break\n",
    "\n",
    "    #辞書形から, データフレーム形に変換\n",
    "    for key in return_tables.keys():\n",
    "        return_tables[key].index = [key] * len(return_tables[key])\n",
    "\n",
    "    return_tables = pd.concat([return_tables[key] for key in return_tables.keys()], sort=False)\n",
    "    return return_tables"
   ]
  },
  {
   "cell_type": "code",
   "execution_count": 28,
   "metadata": {},
   "outputs": [],
   "source": [
    "race_results = pd.read_pickle('1-2results2015_2020.pickle')\n",
    "horse_results = pd.read_pickle('1-4horse_results2015_2020.pickle')"
   ]
  },
  {
   "cell_type": "code",
   "execution_count": 29,
   "metadata": {},
   "outputs": [
    {
     "data": {
      "text/plain": [
       "Index(['201503010101', '201503010102', '201503010103', '201503010104',\n",
       "       '201503010105', '201503010106', '201503010107', '201503010108',\n",
       "       '201503010109', '201503010110',\n",
       "       ...\n",
       "       '202001020204', '202001020205', '202001020206', '202001020207',\n",
       "       '202001020208', '202001020209', '202001020210', '202001020211',\n",
       "       '202001020212', '202001020301'],\n",
       "      dtype='object', length=15752)"
      ]
     },
     "execution_count": 29,
     "metadata": {},
     "output_type": "execute_result"
    }
   ],
   "source": [
    "race_id_list = race_results.index.unique()\n",
    "race_id_list"
   ]
  },
  {
   "cell_type": "code",
   "execution_count": 30,
   "metadata": {},
   "outputs": [
    {
     "name": "stderr",
     "output_type": "stream",
     "text": [
      "100%|██████████| 15752/15752 [44:43<00:00,  5.87it/s]  \n"
     ]
    }
   ],
   "source": [
    "return_tables = sclape_return_tables(race_id_list)"
   ]
  },
  {
   "cell_type": "code",
   "execution_count": 31,
   "metadata": {},
   "outputs": [
    {
     "data": {
      "text/plain": [
       "Index(['201503010101', '201503010102', '201503010103', '201503010104',\n",
       "       '201503010105', '201503010106', '201503010107', '201503010108',\n",
       "       '201503010109', '201503010110',\n",
       "       ...\n",
       "       '202001020204', '202001020205', '202001020206', '202001020207',\n",
       "       '202001020208', '202001020209', '202001020210', '202001020211',\n",
       "       '202001020212', '202001020301'],\n",
       "      dtype='object', length=15752)"
      ]
     },
     "execution_count": 31,
     "metadata": {},
     "output_type": "execute_result"
    }
   ],
   "source": [
    "return_tables.index.unique()"
   ]
  },
  {
   "cell_type": "code",
   "execution_count": 32,
   "metadata": {},
   "outputs": [
    {
     "data": {
      "text/html": [
       "<div>\n",
       "<style scoped>\n",
       "    .dataframe tbody tr th:only-of-type {\n",
       "        vertical-align: middle;\n",
       "    }\n",
       "\n",
       "    .dataframe tbody tr th {\n",
       "        vertical-align: top;\n",
       "    }\n",
       "\n",
       "    .dataframe thead th {\n",
       "        text-align: right;\n",
       "    }\n",
       "</style>\n",
       "<table border=\"1\" class=\"dataframe\">\n",
       "  <thead>\n",
       "    <tr style=\"text-align: right;\">\n",
       "      <th></th>\n",
       "      <th>0</th>\n",
       "      <th>1</th>\n",
       "      <th>2</th>\n",
       "      <th>3</th>\n",
       "    </tr>\n",
       "  </thead>\n",
       "  <tbody>\n",
       "    <tr>\n",
       "      <th>201503010101</th>\n",
       "      <td>単勝</td>\n",
       "      <td>13</td>\n",
       "      <td>1160</td>\n",
       "      <td>5</td>\n",
       "    </tr>\n",
       "    <tr>\n",
       "      <th>201503010101</th>\n",
       "      <td>複勝</td>\n",
       "      <td>13br12br5</td>\n",
       "      <td>220br110br460</td>\n",
       "      <td>4br1br8</td>\n",
       "    </tr>\n",
       "    <tr>\n",
       "      <th>201503010101</th>\n",
       "      <td>枠連</td>\n",
       "      <td>7 - 7</td>\n",
       "      <td>910</td>\n",
       "      <td>4</td>\n",
       "    </tr>\n",
       "    <tr>\n",
       "      <th>201503010101</th>\n",
       "      <td>馬連</td>\n",
       "      <td>12 - 13</td>\n",
       "      <td>930</td>\n",
       "      <td>3</td>\n",
       "    </tr>\n",
       "    <tr>\n",
       "      <th>201503010101</th>\n",
       "      <td>ワイド</td>\n",
       "      <td>12 - 13br5 - 13br5 - 12</td>\n",
       "      <td>430br3,900br730</td>\n",
       "      <td>3br33br7</td>\n",
       "    </tr>\n",
       "  </tbody>\n",
       "</table>\n",
       "</div>"
      ],
      "text/plain": [
       "                0                        1                2         3\n",
       "201503010101   単勝                       13             1160         5\n",
       "201503010101   複勝                13br12br5    220br110br460   4br1br8\n",
       "201503010101   枠連                    7 - 7              910         4\n",
       "201503010101   馬連                  12 - 13              930         3\n",
       "201503010101  ワイド  12 - 13br5 - 13br5 - 12  430br3,900br730  3br33br7"
      ]
     },
     "execution_count": 32,
     "metadata": {},
     "output_type": "execute_result"
    }
   ],
   "source": [
    "return_tables.head()"
   ]
  },
  {
   "cell_type": "code",
   "execution_count": 33,
   "metadata": {},
   "outputs": [],
   "source": [
    "return_tables.to_pickle('1-12return_tables2015_2020.pickle')"
   ]
  },
  {
   "cell_type": "code",
   "execution_count": null,
   "metadata": {},
   "outputs": [],
   "source": []
  }
 ],
 "metadata": {
  "kernelspec": {
   "display_name": "Python 3",
   "language": "python",
   "name": "python3"
  },
  "language_info": {
   "codemirror_mode": {
    "name": "ipython",
    "version": 3
   },
   "file_extension": ".py",
   "mimetype": "text/x-python",
   "name": "python",
   "nbconvert_exporter": "python",
   "pygments_lexer": "ipython3",
   "version": "3.7.7"
  }
 },
 "nbformat": 4,
 "nbformat_minor": 4
}
